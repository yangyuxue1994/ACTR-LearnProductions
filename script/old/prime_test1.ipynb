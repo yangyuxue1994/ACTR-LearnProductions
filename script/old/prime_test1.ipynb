{
 "cells": [
  {
   "cell_type": "code",
   "execution_count": 1,
   "id": "aa06e29b-2db8-452b-8895-3455f245d943",
   "metadata": {},
   "outputs": [],
   "source": [
    "from agent import *\n",
    "from maze import *"
   ]
  },
  {
   "cell_type": "code",
   "execution_count": 2,
   "id": "bd741188-8caa-46d5-afc8-7374c8363fbe",
   "metadata": {},
   "outputs": [
    {
     "data": {
      "image/png": "[encoded data removed]",
      "text/plain": [
       "<Figure size 432x288 with 1 Axes>"
      ]
     },
     "metadata": {
      "needs_background": "light"
     },
     "output_type": "display_data"
    }
   ],
   "source": [
    "m = CogintiveMaze()\n",
    "a = Agent()\n",
    "a.q_learning(500, v=False)"
   ]
  },
  {
   "cell_type": "code",
   "execution_count": 3,
   "id": "2cdbdd74-9534-49e1-bd82-d2bf9d0e3b91",
   "metadata": {},
   "outputs": [
    {
     "data": {
      "text/plain": [
       "matrix([[  0.        , 319.99999998, 399.99999997,   0.        ,\n",
       "           0.        ],\n",
       "        [  0.        ,   0.        , 399.99999999, 399.99999998,\n",
       "           0.        ],\n",
       "        [  0.        , 319.99999998,   0.        , 399.99999998,\n",
       "         499.99999998],\n",
       "        [  0.        , 319.99999998, 499.99999997, 299.99999998,\n",
       "           0.        ],\n",
       "        [  0.        ,   0.        ,   0.        ,   0.        ,\n",
       "         499.99999998]])"
      ]
     },
     "execution_count": 3,
     "metadata": {},
     "output_type": "execute_result"
    }
   ],
   "source": [
    "Q = a.q_table\n",
    "Q"
   ]
  },
  {
   "cell_type": "code",
   "execution_count": 4,
   "id": "da579f0b-8a56-48a3-b243-57629507da84",
   "metadata": {},
   "outputs": [
    {
     "name": "stdout",
     "output_type": "stream",
     "text": [
      "next step id IMAGINAL\n",
      "next step id MOTOR\n",
      "Learned most efficient path:\n",
      "['VISUAL', 'IMAGINAL', 'MOTOR']\n"
     ]
    }
   ],
   "source": [
    "a.q_testing()"
   ]
  },
  {
   "cell_type": "code",
   "execution_count": null,
   "id": "9b3a2297-2d51-483a-a4be-a3d6d1698f50",
   "metadata": {},
   "outputs": [],
   "source": []
  },
  {
   "cell_type": "code",
   "execution_count": null,
   "id": "21e965ac-85ba-45aa-b0f9-ecf236fbe5d2",
   "metadata": {},
   "outputs": [],
   "source": []
  },
  {
   "cell_type": "code",
   "execution_count": 5,
   "id": "fa642f4b-b960-4f93-9d0a-6a80a61f54d6",
   "metadata": {},
   "outputs": [],
   "source": [
    "a = [1,2,3]"
   ]
  },
  {
   "cell_type": "code",
   "execution_count": 6,
   "id": "5e0c5e15-a9d0-4787-b95e-26f99ac96391",
   "metadata": {},
   "outputs": [
    {
     "ename": "IndexError",
     "evalue": "pop index out of range",
     "output_type": "error",
     "traceback": [
      "\u001b[0;31m---------------------------------------------------------------------------\u001b[0m",
      "\u001b[0;31mIndexError\u001b[0m                                Traceback (most recent call last)",
      "\u001b[0;32m<ipython-input-6-fce99b7ec48a>\u001b[0m in \u001b[0;36m<module>\u001b[0;34m\u001b[0m\n\u001b[0;32m----> 1\u001b[0;31m \u001b[0ma\u001b[0m\u001b[0;34m.\u001b[0m\u001b[0mpop\u001b[0m\u001b[0;34m(\u001b[0m\u001b[0;36m3\u001b[0m\u001b[0;34m)\u001b[0m\u001b[0;34m\u001b[0m\u001b[0;34m\u001b[0m\u001b[0m\n\u001b[0m",
      "\u001b[0;31mIndexError\u001b[0m: pop index out of range"
     ]
    }
   ],
   "source": [
    "a.pop(3)"
   ]
  },
  {
   "cell_type": "code",
   "execution_count": null,
   "id": "abb42c89-cc0b-4724-839a-462cb4e10b7e",
   "metadata": {},
   "outputs": [],
   "source": [
    "a"
   ]
  },
  {
   "cell_type": "code",
   "execution_count": null,
   "id": "cb60a1bf-3c3c-4760-aa55-6c0a6bba97a0",
   "metadata": {},
   "outputs": [],
   "source": []
  },
  {
   "cell_type": "code",
   "execution_count": null,
   "id": "75cd6d31-6063-42cf-bd45-92dbb84a7738",
   "metadata": {},
   "outputs": [],
   "source": []
  }
 ],
 "metadata": {
  "kernelspec": {
   "display_name": "Python 3",
   "language": "python",
   "name": "python3"
  },
  "language_info": {
   "codemirror_mode": {
    "name": "ipython",
    "version": 3
   },
   "file_extension": ".py",
   "mimetype": "text/x-python",
   "name": "python",
   "nbconvert_exporter": "python",
   "pygments_lexer": "ipython3",
   "version": "3.8.8"
  }
 },
 "nbformat": 4,
 "nbformat_minor": 5
}
